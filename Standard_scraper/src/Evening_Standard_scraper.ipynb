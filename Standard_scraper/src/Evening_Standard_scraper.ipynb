{
 "cells": [
  {
   "cell_type": "code",
   "execution_count": 1,
   "metadata": {},
   "outputs": [],
   "source": [
    "import os \n",
    "import requests\n",
    "from bs4 import BeautifulSoup"
   ]
  },
  {
   "cell_type": "code",
   "execution_count": 14,
   "metadata": {},
   "outputs": [],
   "source": [
    "def article_scraper(url):\n",
    "    reply = requests.get(url)\n",
    "    content = reply.content\n",
    "    soup = BeautifulSoup(content, 'lxml')\n",
    "    title = soup.find('h1', attrs={'class':'headline'}).text\n",
    "    link = url\n",
    "    text = ''\n",
    "    for paragraph in soup.find('div', attrs={'class':'body-content'}).findAll('p'):\n",
    "        text += paragraph.text\n",
    "    tag_box = soup.find('aside', attrs={'class':'tags'})\n",
    "    tags = []\n",
    "    for tag in tag_box.findAll('a'):\n",
    "        tags.append(tag.text)\n",
    "    return(title, link, text, tags)"
   ]
  },
  {
   "cell_type": "code",
   "execution_count": 16,
   "metadata": {},
   "outputs": [],
   "source": [
    "url = 'https://www.standard.co.uk/newsheadlines/new-year-liver-detox-is-futile-6382589.html'\n",
    "answer = article_scraper(url)"
   ]
  },
  {
   "cell_type": "code",
   "execution_count": 17,
   "metadata": {},
   "outputs": [
    {
     "data": {
      "text/plain": [
       "(\"New year liver detox 'is futile'\",\n",
       " 'https://www.standard.co.uk/newsheadlines/new-year-liver-detox-is-futile-6382589.html',\n",
       " 'Going on a new year detox to cleanse your liver is \"medically futile\", health experts have warned.It may seem like a good idea to avoid alcohol for the month after the excesses of Christmas but the British Liver Trust has now criticised January detoxes, urging people to think about their long-term health instead.Dr Mark Wright, consultant hepatologist at Southampton General Hospital, said: \"Detoxing for just a month in January is medically futile. It can lead to a false sense of security and feeds the idea that you can abuse your liver as much as you like and then sort everything else with a quick fix.\"It makes about as much sense as maxing out your credit cards and overdraft all year, then thinking you can fix it by just eating toast in January. The figures just don\\'t stack up.\"The British Liver Trust is launching a national awareness campaign for the month, which will see pop-up liver clinics offering health checks.The Love Your Liver roadshow will visit London, Birmingham, Liverpool, Exeter and Glasgow, and members of the public can have their livers tested for free.Andrew Langford, the trust\\'s chief executive, said: \"While people believe the hype and go on January detoxes to \\'rejuvenate\\' their liver, it would actually be more beneficial to adopt a more long-term attitude to achieving good liver health.\"People think they\\'re virtuous with their health by embarking on a liver detox each January with the belief that they are cleansing their liver of excess following the festive break.\"A one-hit, one-month attempt to achieve liver health is not the way to approach it. You\\'re better off making a resolution to take a few days off alcohol a week throughout the entire year than remaining abstinent for January only.\"',\n",
       " ['Christmas', 'Consultancy', 'Liver', 'Southampton'])"
      ]
     },
     "execution_count": 17,
     "metadata": {},
     "output_type": "execute_result"
    }
   ],
   "source": [
    "answer"
   ]
  }
 ],
 "metadata": {
  "kernelspec": {
   "display_name": "Python 3",
   "language": "python",
   "name": "python3"
  },
  "language_info": {
   "codemirror_mode": {
    "name": "ipython",
    "version": 3
   },
   "file_extension": ".py",
   "mimetype": "text/x-python",
   "name": "python",
   "nbconvert_exporter": "python",
   "pygments_lexer": "ipython3",
   "version": "3.6.4"
  }
 },
 "nbformat": 4,
 "nbformat_minor": 2
}
