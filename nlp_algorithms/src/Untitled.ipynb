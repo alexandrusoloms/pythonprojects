{
 "cells": [
  {
   "cell_type": "code",
   "execution_count": 1,
   "metadata": {},
   "outputs": [],
   "source": [
    "import nltk"
   ]
  },
  {
   "cell_type": "code",
   "execution_count": 2,
   "metadata": {},
   "outputs": [
    {
     "name": "stdout",
     "output_type": "stream",
     "text": [
      "[nltk_data] Downloading package punkt to /Users/zsolt/nltk_data...\n",
      "[nltk_data]   Package punkt is already up-to-date!\n"
     ]
    },
    {
     "data": {
      "text/plain": [
       "True"
      ]
     },
     "execution_count": 2,
     "metadata": {},
     "output_type": "execute_result"
    }
   ],
   "source": [
    "nltk.download('punkt')"
   ]
  },
  {
   "cell_type": "code",
   "execution_count": 3,
   "metadata": {},
   "outputs": [],
   "source": [
    "from TextRank import TextRank"
   ]
  },
  {
   "cell_type": "code",
   "execution_count": 6,
   "metadata": {},
   "outputs": [],
   "source": [
    "text = '''\n",
    "Pendolino (from Italian pendolo [ˈpɛndolo] \"pendulum\", and -ino, a diminutive suffix) is an Italian family of tilting trains used in Italy, Spain, Poland, Portugal, Slovenia, Finland, Russian Federation, the Czech Republic, the United Kingdom, Slovakia, Switzerland and China. Based on the design of the Italian ETR 401 and the British Advanced Passenger Train, it was further developed and manufactured by Fiat Ferroviaria, which was taken over by Alstom in 2000.\n",
    "\n",
    "The idea of a tilting train became popular in the 1960s and 1970s when various rail operators, impressed by the high-speed rail services being introduced in France and Japan, wondered how they could similarly speed up travel without building a dedicated parallel rail network (as those two countries were doing). By tilting, the train could go around curves designed for slower trains at higher speeds without causing undue discomfort to passengers.\n",
    "\n",
    "Contents [hide] \n",
    "1\tCurrent use\n",
    "1.1\tItaly\n",
    "1.2\tSpain\n",
    "1.3\tGermany\n",
    "1.4\tSwitzerland\n",
    "1.5\tFinland\n",
    "1.6\tPortugal\n",
    "1.7\tSlovenia\n",
    "1.8\tUnited Kingdom\n",
    "1.9\tCzech Republic\n",
    "1.10\tPoland\n",
    "1.11\tChina\n",
    "1.12\tUnited States\n",
    "2\tCancelled orders\n",
    "3\tSee also\n",
    "4\tReferences\n",
    "Current use[edit]\n",
    "\n",
    "This section needs additional citations for verification. Please help improve this article by adding citations to reliable sources. Unsourced material may be challenged and removed. (January 2016) (Learn how and when to remove this template message)\n",
    "Italy[edit]\n",
    "\n",
    "ETR 401 near Ancona. This was the first Pendolino EMU to enter regular service\n",
    "In Italy, various possibilities were explored (including one early design for fixed carriages with tilting seats). A number of prototypes were built and tested, including an automotrice (self-propelled) derived from ALn 668 diesel car and provided with tilting seats. The first working prototype using a tilting carbody was ETR Y 0160, an electrically powered car launched by FIAT in 1969. This was the first to be christened Pendolino.\n",
    "\n",
    "It led to the construction of a whole EMU in 1975, the ETR 401, built in two units by FIAT. One was put into public service on 2 July 1976 on the Rome-Ancona (later extended to Rimini) line, operated by Italian State Railways. Between Roma and Ancona (km. 295) the train took 2 hours and 50 minutes while the ordinary trains took 3 hours and 30 minutes. The train had four cars and was mostly considered a travelling laboratory for the new technology. The second unit was adapted for service to the broad gauge RENFE Spanish lines.\n",
    "\n",
    "\n",
    "ETR 480 in Roma Termini railway station\n",
    "In 1982, FS retired the ETR 401 from service, due to high maintenance cost, and FIAT transformed it in a train-laboratory, to test the parts for the successor of the ETR 401, ETR 450. After 1988, the trainset went around Europe to demonstrate the greatness of the tilting revolutionary technology and between 1994 and 2001 it was utilised as a charter train. In 2001 the ETR 401 was put aside in Ancona and since 2013, to celebrate the 25th anniversary of the first official pendolino service, it has been partly restored.\n",
    "\n",
    "On 29 May 1988, the ETR 450 became the first pendolino to enter in a high-speed regular service in the world. The project of the new train was really similar to the predecessor, but it utilised many electronic parts, as the chopper and the automatic gear. Characterized by a 9-car configuration, the 15 trainsets ETR 450 could run the Rome-Milan line in under four hours, at speeds up to 250 km/h, with a comfort level as the best TEE's cars at the speed of 180–200 km/h. Passenger numbers increased from 220,000 in 1988 to 2.2 million in 1993.\n",
    "\n",
    "In 1994, the next generation, the ETR 460, styled by Giorgetto Giugiaro, began service. Though plagued by technical teething problems, the ETR 460 introduced several innovations, such as more powerful AC asynchronous motors. Further, the pistons actuating the anti-tilting action were placed in the bogie instead of on the carbody sides: this permitted the reorganisation of the vestibules and passenger compartment areas, improving comfort. The bogie-to-body connection is extremely simple and easy to make, with clear advantages for maintenance.\n",
    "\n",
    "\n",
    "ETR 600, in service since 2006\n",
    "ETR 460 keeps axle load to an extremely low level (14.5 ton/axle) to allow the train to negotiate curves up to 35% faster than conventional Intercity trains (loco plus coaches). The body, which exploits large aluminium extrusion technology, has substantial modularity and allows for extremely low axle weight, whilst fully respecting the highest safety standards, and allows the best exploitation of the space with different loading gauges.\n",
    "\n",
    "ETR 460 was built in only 10 units. Improved versions include 9 ETR 470 for the Italo-Swiss Cisalpino company and 15 ETR 480 / 485 used by Trenitalia under AC lines such as those in France and Switzerland. A total of 34 EMUs of the ETR 460/470/480 - 485 series were built.\n",
    "\n",
    "FIAT Ferroviaria was sold to the French Alstom company in 2000. The development of the Pendolino technology continued in the Italian factories of Alstom and the next generation, the New Pendolino, was delivered to Trenitalia and Cisalpino as the ETR 600 and the ETR 610 from 2006.\n",
    "\n",
    "Spain[edit]\n",
    "Even before the first Pendolino EMU was built in Italy, in 1972, Fiat and RENFE signed an agreement for cooperation in tilting-train development. The first fruit of the cooperation was the equipment of a RENFE Class 432 EMU with the active tilting suspension in September 1972. After successful tests, Spanish trainmaker Construcciones y Auxiliar de Ferrocarriles and Fiat built a prototype similar to the ETR 401, which was delivered in 1976 as RENFE Class 443, nicknamed Platanito (Banana) for its yellow livery. The four-car train had a commercial top speed of 180 km/h and achieved a then speed record for Spain of 206 km/h on 6 May 1987. However, the train remained a unique specimen, as RENFE favoured the entirely domestic Talgo Pendular, a tilting train with passive suspension introduced in 1980. After revenue service in 1979-1982, the train was used for charter and test runs.[1]\n",
    "\n",
    "\n",
    "An Alaris trainset from Madrid Atocha station approaching Silla\n",
    "Two decades later, to speed up services along its Madrid-Valencia conventional line, Renfe ordered ten Pendolini in 1996. The trains, based on the ETR 460 and ETR 470, were delivered by a joint consortium of Fiat Ferroviaria and GEC-Alsthom from 1998 as RENFE Class 490. The three-car trains are suited for 220 km/h on RENFE's conventional lines electrified with 3 kV DC. The Class 490 took up the new Madrid-Valencia Alaris services in 1999.[2] With growing demand, the capacity of the Class 490 was no longer sufficient, and from February 2008, the trains were transferred to the Corredor Mediterráneo line between Valencia and Barcelona.\n",
    "\n",
    "For medium-distance services along its high-speed lines, RENFE ordered a non-tilting variant of the Pendolino, based on the ETR 480, in 2001. The 20 four-car trains with a service top speed of 250 km/h were built jointly by Alstom and CAF and delivered as the RENFE Class 104. RENFE deployed them for the new Avant services along the Madrid-Seville high-speed line from 29 December 2004.[3]\n",
    "\n",
    "RENFE ordered another 30 non-tilting medium-distance high-speed trains from Alstom/CAF in a follow-on order,[4] which was later reduced to 13 units. However, these trains are based on the New Pendolino design. The first train of the new class designated RENFE Class 114 was presented in autumn 2008.[5]\n",
    "\n",
    "Germany[edit]\n",
    "See also: ICE T\n",
    "\n",
    "ICE T in curve\n",
    "The West German federal railways DB experimented with tilting technology in the 1970s, but abandoned it. Then in 1987, DB commissioned a study on whether electrification or purchasing diesel tilting trains would be the better option for the Nuremberg-Hof line, and decided for the latter. In 1988, DB ordered 10 tilting DMUs, and another 10 in 1990. All 20 trains of the new DB Class 610 were delivered in 1992. The two-car trains with a top speed of 160 km/h were produced by a consortium of five German companies and Fiat Ferroviaria.[6] Fiat supplied the bogies, the hydraulic tilting suspension, and the other parts of the tilting technology, thus the trains could be called Pendolino (a Fiat trademarked brand name).[7]\n",
    "\n",
    "Deutsche Bahn ordered more regional and express tilting DMUs with other technology (class 611 and class 612: Adtranz/Bombardier, ICE TD/class 605: Siemens[8]). However, for the 230 km/h electric ICE T trains ordered in 1994 for service on conventional lines, Pendolino technology was chosen again. Fiat (Alstom) supplied the bogies and tilting technology for the 32 7-car class 411 and 11 5-car class 415 express trains that entered service from 1999. In 2002, DB placed another order for slightly modified class 411 trains, Alstom Ferroviaria was again supplier of bogies and tilt technology when the 28 trains were delivered from 2004 to 2006.[9]\n",
    "\n",
    "Switzerland[edit]\n",
    "\n",
    "Cisalpino ETR 470\n",
    "Since the failure of Cisalpino, a joint venture between the Italian Trenitalia and the Swiss Federal Railways (SBB), the Pendolinos used for transalpine transport between Switzerland and Italy were split between Trenitalia (5 ETR 470 and 7 ETR 610) and SBB (4 ETR 470 and 7 ETR 610). The low reliability of the timetable and of the ETR 470 has led SBB and Trenitalia to always have a reserve train ready at each terminus of the Milan-Zürich route.\n",
    "\n",
    "In 2012 SBB ordered 8 new ETR 610 with delivery in 2015 to be operated on the routes Milan - Geneva and Milan - Zürich.[10]\n",
    "\n",
    "Finland[edit]\n",
    "\n",
    "An Sm3 class Pendolino arrives at Jyväskylä railway station\n",
    "Main article: VR Class Sm3\n",
    "The Finnish model, the class Sm3, is based on the ETR 460 but was adapted to the specific requirements of VR Group (formerly the Finnish State Railways) and to the cold climatic conditions. The first two units were assembled in 1995 by Rautaruukki-Transtech. A total of sixteen additional units were purchased from Alstom and shipped to Finland between 2000 and 2006. Sm3 trains operate from Helsinki to the cities of Turku, Tampere, Jyväskylä, Oulu, Kouvola and Vaasa.\n",
    "\n",
    "The trains are composed of six carriages. Four cars are fitted with two asynchronous three-phase AC motors (one for each bogie); two are unpowered but are fitted with pantographs. One of these coaches is a restaurant carriage. The motors deliver a continuous power of 4,000 kW (5,400 hp) and propel the train at a maximum speed of 220 kilometres per hour (140 mph).\n",
    "\n",
    "The Sm3 has received a lot of bad publicity in Finland for its reliability issues, mostly caused by technical problems with the tilting system and couplers. VR has tried to mitigate the problem by coupling trains only at termini instead of intermediate stations and switching the tilting system off during winter. The trains will go through an extensive maintenance cycle between 2012 and 2014, which will include changes to the couplers and the tilting system in order to make the train more reliable.\n",
    "\n",
    "Main article: VR Class Sm6\n",
    "\n",
    "VR Class Sm6 Allegro train in Russia\n",
    "Karelian Trains, a 50-50 joint venture between Finnish VR and Russian Railways, operates four 1522 mm gauge seven-car Pendolinos for use on 220 km/h Saint Petersburg–Helsinki services. Branded Allegro (Russian: Аллегро). Service started on December 12, 2010, reducing travel time between the cities from five and a half hours to three and a half hours at first and later to three hours. The bogies are specially constructed to allow for 220 km/h speed both at the Finnish gauge 1,524 mm (5 ft) and the Russian gauge 1,520 mm (4 ft 11 27⁄32 in).\n",
    "\n",
    "Portugal[edit]\n",
    "Main article: Alfa Pendular\n",
    "\n",
    "Alfa Pendular in Lisbon, Lisbon-Santa Apolónia Station\n",
    "In Portugal the Pendolino is named Alfa Pendular and is operated by the Portuguese state railway company CP. It connects the cities of Braga, Porto, Aveiro, Coimbra, Santarém, Lisbon, Albufeira and Faro, among others, and has a top speed of 220 km/h (136.7 mph). The bogies had to be redesigned for operation on Portugal's broad gauge track, and the trains were assembled by Adtranz Portugal at the Amadora plant (former Sorefame). Main contractor was Fiat Ferroviaria later acquired by Alstom with two main subcontractors Adtranz and Siemens that was responsible for the traction and train control.\n",
    "\n",
    "Ten six-car train sets where produced between 1998 and 2001, with commercial operation started in early 1999. Based on the ETR 460 the Portuguese Pendolino differs mainly from its predecessor from the carbody width that takes advantage of the Iberian gauge 1,668 mm (5 ft 5 21⁄32 in).\n",
    "\n",
    "Slovenia[edit]\n",
    "Main article: SŽ series 310\n",
    "\n",
    "Pendolino ETR 310 of Slovenian railways in Ljubljana Central trainstation\n",
    "Slovenian Railways ordered three Pendolino tilting trains for its main lines. The 3-car trains, delivered as SŽ series 310, were derived from the ETR 460.[11] The series 310 can reach a maximum speed of 200 km/h, but in revenue service on the Slovenian railway network, the maximum it reaches is 160 km/h between Maribor and Pragersko stations, as well as between Grobelno and Celje stations.\n",
    "\n",
    "Since 24 September 2000,[11] the series 310 runs the InterCitySlovenija (ICS) service, linking the major cities of Slovenia in one line: Koper (only in summer), Ljubljana, Zidani Most, Celje and Maribor, with a frequent service that acts as a high-speed shuttle.[12] Until April 2008, once per day the route from Maribor to Ljubljana was extended as international train to Venice via Monfalcone serving Trieste.\n",
    "\n",
    "Train offers 1st and 2nd class and on-board bar.\n",
    "\n",
    "1st Class\n",
    "Leather seats in 1-2 configuration\n",
    "220V Power Outlet\n",
    "Audio Entertainment (not working)\n",
    "Electric blind\n",
    "Recline (By moving lower part forward you may recline by 15\")\n",
    "Every seat has a table which can be extended to (100cm x 80cm) for business meetings or eating\n",
    "Air conditioning outlet\n",
    "Reading light\n",
    "Wider seats (20 cm)\n",
    "2nd Class\n",
    "Plush seats in 2-2 configuration\n",
    "220V power outlet (Some seats)\n",
    "Electric blind\n",
    "Most seats have a foot rest\n",
    "Most seats have tray table and some have a conference table which can extend to (100cm x 80cm) for working or eating\n",
    "Air conditioning outlet\n",
    "Reading Light\n",
    "United Kingdom[edit]\n",
    "Main article: British Rail Class 390\n",
    "In 2002, Virgin Trains in the UK began operating custom-designed Pendolino trains known as the Class 390 on its West Coast Main Line (WCML) franchise. The 53 9-car trains were constructed by Alstom and are leased by Virgin Trains from Angel Trains.\n",
    "\n",
    "Owing to the failure of the WCML upgrade to provide in-cab signalling, these units are limited in service to 125 mph (200 km/h) operation rather than their 140 mph (225 km/h) design speed. In 2006, Virgin Trains announced that, over the following three years, they would be examining the possibility of running the trains at 135 mph (215 km/h) through the Trent Valley as part of their new WCML Franchise Proposal.[13]\n",
    "\n",
    "\n",
    "An Alstom Class 390 Pendolino in Birmingham\n",
    "The Class 390 Pendolino were maintained by Alstom (West Coast Traincare) under contract to Virgin Trains until 2012. The main maintenance locations are Wembley, Midlands (Oxley, Wolverhampton), Manchester (Longsight) and Glasgow (Polmadie), as well as Liverpool (for minor work only) and several \"Traincare Points\" along the line of route (such as Euston and Carlisle). Headquarters for West Coast Traincare moved from the former Metro-Cammell factory at Washwood Heath in Birmingham upon its closure in November 2005 to Manchester Longsight depot with some functions being based at a new office facility at Oxley depot.\n",
    "\n",
    "In 2008 DfT announced that 31 of the existing 9-car sets would be lengthened to 11 cars to increase capacity. Four new 11-car sets were also to be built. Angel Trains ordered the vehicles from Alstom in September 2008.[14] Virgin Rail Projects has been selected to introduce the new trains. The longer units would require major infrastructure changes to allow stations and depots to accommodate the 11-car units.[15]\n",
    "\n",
    "With the closure of the Washwood Heath works, any additional vehicles were manufactured in Alstom's Savigliano factory in Italy.[16] The first new sets were built with 11 cars and delivered via Dollands Moor to Edge Hill.[17][18] On 12 July 2011 Virgin Trains Chief Operating Officer, Chris Gibb, accepted the train (as a 9 coach set) from Alstom Transport UK Managing Director Paul Robinson and Malcolm Brown, Angel Trains’ Chief Executive, at Alstom’s Edge Hill Traincare Centre in Liverpool.[19]\n",
    "\n",
    "With the franchise process in place, and Virgin Trains franchise extended to December 2012, the first 11-car set (390 156) entered service on 5 April 2012. The remaining new sets were brought into service, and 31 sets increased to 11 carriages over the next eight months.[20]\n",
    "\n",
    "Two decades earlier, British Rail had planned to bring tilting train technology to the same line with the APT project. Technical problems caused by pressure to launch the service early and lack of the political will to provide sufficient funding to overcome them forced the abandonment of this early attempt, although much of the technology was used to design and build Pendolino trains.[citation needed]\n",
    "\n",
    "On 23 February 2007, a Virgin Trains Pendolino train was derailed near Grayrigg, Cumbria. Virgin chairman Sir Richard Branson credited the robust construction of the Pendolino with saving lives in the crash.[21] A report released on 4 September 2007 found that faulty points were the cause of the accident.[22]\n",
    "\n",
    "Czech Republic[edit]\n",
    "\n",
    "A Czech 680 Pendolino in Praha hlavní nádraží\n",
    "Main article: ČD Class 680\n",
    "In 1995 consortium consisting of ČKD, MSV Studénka, FIAT Ferroviaria and Siemens won tender for the construction of ten tilting trains for the Czech Railways ČD, intended for international service Berlin - Prague - Vienna. After ČKD bankruptcy in 2000 Alstom (as new owner of FIAT Ferroviaria) took over whole order, reducing number of sets to seven and raising total price,[23] while provided an improved version of ETR 470, equipped to work on 25 kV 50 Hz AC, 15 kV ​16 2⁄3 Hz AC and 3,000 V DC, thus suitable to operate in Germany, Austria, Slovakia and the Czech Republic. The first set was delivered in 2004 as Pendolino ČD 680. While testing from Zámrsk to Pardubice on November 18, 2004, the Pendolino reached a speed of 237 km/h and created a new Czech railway speed record.\n",
    "\n",
    "During the testing period, the train had problems with the Czech signalling system. The problems were said to be solved and the trains entered regular service in December 2005 between Prague and Ostrava. As of late January 2006, all five Czech Pendolino trains in service suffered from software and functional problems, which were later fixed, but the trains still did not receive permission to operate abroad. In December 2006, the trains were given permission to operate in Slovakia and Austria, but as of 2010 permission for Germany has not yet been granted.\n",
    "\n",
    "A Czech Pendolino train appeared in the 2006 James Bond film Casino Royale and in Timur Bekmambetov's 2008 film Wanted starring Angelina Jolie.[24]\n",
    "\n",
    "Poland[edit]\n",
    "\n",
    "A PKP Intercity ED250 in Kraków Główny railway station, Poland\n",
    "Polish state railways PKP ordered 14 Pendolinos in 1998, but the order was cancelled in 2000 due to a shortage of funds.[25]\n",
    "\n",
    "In 2010 Alstom won a PKP Intercity tender for high-speed trains with an offer of 20 New Pendolino trains. Similarly to the CRH5, these are non-tilting. Like the ČD class 680, the Pendolinos are equipped to operate on 15 kV 16·7 Hz and 25 kV 50 Hz as well as 3 kV DC for operation in Poland, and have the train control systems needed to operate in Germany, Austria and the Czech Republic.[26] However, certification for international operation is not seen as a priority, as the trains are restricted to domestic services for an initial 10 years under the terms of a grant from the EU Cohesion Fund which covered 22% of the project cost.[27]\n",
    "\n",
    "On 30 May 2011 the Polish state railways PKP signed an agreement with Alstom for 20 Pendolinos ETR 610 for delivery in 2014.[28][29] The first Pendolino was delivered on August 12, 2013.[30] Each seven-car Class ED250 trainset has seats for 57 first class and 345 second class passengers, with a buffet/bar and three four-seat business or family compartments. The Pendolinos were to operate on the high-speed CMK Central Rail Line from Kraków/Katowice to Warsaw, and on the routes from Gdynia to Warsaw and from Wrocław to Warsaw.[31]\n",
    "\n",
    "High speed tests using the new Pendolino ED250 on the CMK Central Rail Line began in November 2013. On the first day of tests, November 16, the Pendolino reached 242 km/h (150 mph).[32] On 17 November 2013 a new speed record for Polish railways was set at km 184.000 of Polish Line No. 4 when Pendolino ED250 reached a speed of 291 km/h (181 mph),[33] breaking the 19-year record of 250.1 km/h (155 mph). On 24 November 2013 the final day of tests on the CMK Central Rail Line the Pendolino reached 293 km/h (182 mph).[34]\n",
    "\n",
    "The contract between the Polish operator PKP Intercity and Alstom called for the first eight Pendolino ED250 trainsets to be delivered on 6 May 2014, tested ('homologated') for operation at 250 km/h (155 mph) using European Train Control System Level 2 signalling. The tests had not been performed by May, and PKP announced that Alstom had failed to meet the contract terms and would be charged penalties as of May 6.[35] Alstom responded that homologation in Poland at 250 km/h using ETCS Level 2 was impossible, since ETCS Level 2 was not operational anywhere in Poland, and the Central Rail Line (Poland) where the first ED250 Pendolino had reached 293 km/h in testing was equipped with ETCS Level 1, not Level 2.[36] On 26 June 2014 a compromise was reached between PKP and Alstom under which the Pendolinos would be delivered under a two-stage homologation, first homologated for operation using ETCS Level 1 and eventually to be homologated for ETCS Level 2.[37][38] The Pendolinos were put in service on 14 December 2014.[39][40]\n",
    "\n",
    "In addition to the Central Rail Line from Warsaw to Kraków and Katowice, and from Warsaw to Wrocław, the Pendolinos also operate on the 350 km (221 miles) route from Warsaw to Gdańsk and Gdynia on the Baltic Sea. In 2011-2015 the Warsaw-Gdańsk-Gdynia route underwent a major upgrading costing $3 billion, partly funded by the European Investment Bank, including track replacement, realignment of curves and relocation of sections of track to allow speeds up to 200 km/h (124 mph), and modernization of stations. Installation of European Train Control System Level 2 was under way in 2016. When Pendolino services started on 14 December 2014 the previous Warsaw–Gdańsk rail travel time of 4-1/2 to 6 hours was reduced to 2 hours 58 minutes by Pendolino, and reduced further to 2 hours 39 minutes in December 2015.[41]\n",
    "\n",
    "Introduction of the fast, modern Pendolinos in December 2014 had a major effect on rail ridership in Poland. In the first five months of 2015, Warsaw–Kraków rail ridership rose by 50 percent. In May 2015 alone, Warsaw–Kraków ridership was 70 percent higher than a year earlier.['''"
   ]
  },
  {
   "cell_type": "code",
   "execution_count": 7,
   "metadata": {},
   "outputs": [
    {
     "name": "stdout",
     "output_type": "stream",
     "text": [
      "1. The two-car trains with a top speed of 160 km/h were produced by a consortium of five German companies and Fiat Ferroviaria .\n",
      "2. [ 6 ] Fiat supplied the bogies , the hydraulic tilting suspension , and the other parts of the tilting technology , thus the trains could be called Pendolino ( a Fiat trademarked brand name ) .\n",
      "3. Portugal [ edit ] Main article : Alfa Pendular Alfa Pendular in Lisbon , Lisbon-Santa Apolónia Station In Portugal the Pendolino is named Alfa Pendular and is operated by the Portuguese state railway company CP .\n",
      "4. In December 2006 , the trains were given permission to operate in Slovakia and Austria , but as of 2010 permission for Germany has not yet been granted .\n",
      "5. Like the ČD class 680 , the Pendolinos are equipped to operate on 15 kV 16·7 Hz and 25 kV 50 Hz as well as 3 kV DC for operation in Poland , and have the train control systems needed to operate in Germany , Austria and the Czech Republic .\n"
     ]
    },
    {
     "data": {
      "text/plain": [
       "['The two-car trains with a top speed of 160 km/h were produced by a consortium of five German companies and Fiat Ferroviaria .',\n",
       " '[ 6 ] Fiat supplied the bogies , the hydraulic tilting suspension , and the other parts of the tilting technology , thus the trains could be called Pendolino ( a Fiat trademarked brand name ) .',\n",
       " 'Portugal [ edit ] Main article : Alfa Pendular Alfa Pendular in Lisbon , Lisbon-Santa Apolónia Station In Portugal the Pendolino is named Alfa Pendular and is operated by the Portuguese state railway company CP .',\n",
       " 'In December 2006 , the trains were given permission to operate in Slovakia and Austria , but as of 2010 permission for Germany has not yet been granted .',\n",
       " 'Like the ČD class 680 , the Pendolinos are equipped to operate on 15 kV 16·7 Hz and 25 kV 50 Hz as well as 3 kV DC for operation in Poland , and have the train control systems needed to operate in Germany , Austria and the Czech Republic .']"
      ]
     },
     "execution_count": 7,
     "metadata": {},
     "output_type": "execute_result"
    }
   ],
   "source": [
    "TextRank.fit(text, pretty_print=True)"
   ]
  },
  {
   "cell_type": "code",
   "execution_count": null,
   "metadata": {},
   "outputs": [],
   "source": []
  }
 ],
 "metadata": {
  "kernelspec": {
   "display_name": "Python 3",
   "language": "python",
   "name": "python3"
  },
  "language_info": {
   "codemirror_mode": {
    "name": "ipython",
    "version": 3
   },
   "file_extension": ".py",
   "mimetype": "text/x-python",
   "name": "python",
   "nbconvert_exporter": "python",
   "pygments_lexer": "ipython3",
   "version": "3.6.6"
  }
 },
 "nbformat": 4,
 "nbformat_minor": 2
}
