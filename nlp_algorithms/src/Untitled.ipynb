{
 "cells": [
  {
   "cell_type": "code",
   "execution_count": 3,
   "metadata": {},
   "outputs": [],
   "source": [
    "import nltk"
   ]
  },
  {
   "cell_type": "code",
   "execution_count": 9,
   "metadata": {},
   "outputs": [
    {
     "name": "stdout",
     "output_type": "stream",
     "text": [
      "[nltk_data] Downloading package punkt to /home/zsolt/nltk_data...\n",
      "[nltk_data]   Unzipping tokenizers/punkt.zip.\n"
     ]
    },
    {
     "data": {
      "text/plain": [
       "True"
      ]
     },
     "execution_count": 9,
     "metadata": {},
     "output_type": "execute_result"
    }
   ],
   "source": [
    "nltk.download('punkt')"
   ]
  },
  {
   "cell_type": "code",
   "execution_count": 5,
   "metadata": {},
   "outputs": [],
   "source": [
    "from TextRank import TextRank"
   ]
  },
  {
   "cell_type": "code",
   "execution_count": 14,
   "metadata": {},
   "outputs": [],
   "source": [
    "text = \"\"\"\n",
    "\n",
    "\n",
    "Korábban még úgy volt, hogy a Samsung fogja gyártani az új, 7 nm-es Snapdragon lapkakészleteket, azonban, a mostani értesülések szerint, másképp döntött a Qualcomm.\n",
    "\n",
    "Visszatér a Qualcomm a TSMC-hez, és a tajvani gyártóra bízza a 7 nm-es, Snapdragon 800-as sorozatú lapkakészletek (Snapdragon 808, Snapdragon 810) gyártását, a korábban még befutónak tűnő Samsung helyett – írja a Digitimes ipari forrásokra hivatkozva.\n",
    "\n",
    "A Qualcomm és a TSMC kapcsolata nem új keletű, régebben is jó kapcsolatban voltak: 2006 novemberében kötöttek először üzletet a 65 nm-es chipek fejlesztésére, majd a 45 nm-es és a 28 nm-es gyártási folyamatokkal bővítették a kapcsolatukat. Később viszont megjelent a Samsung, és ő gyárthatta a 14 nm-es és 10 nm-es áramköröket. Úgy hírlik egyébként, hogy a TSMC 5G-s modemeket is készít majd a Qualcomm számára.\n",
    "© Android Authority\n",
    "\n",
    "Persze nem a Qualcomm az egyetlen cég, amelyik érdekelt a 7 nm-es FinFET technológiában. A MediaTek is bejelentette, hogy a TSMC-vel együtt fogja gyártani a Helio M70 sorozatú 5G modemeket, a termelés a jövő év elején kezdődhet. Állítólag a Huawei újabb Kirin egylapkás rendszere (Kirin 980) is említett technológiára épülne, és a Xiaomival kapcsolatban is beszélik, hogy összefogna a TSMC-vel. Azonban ez az együttműködés, a 16 nm-es technológia miatt, inkább a középkategóriás piaci szegmenst célozná.\n",
    "\n",
    "A TSMC egyébként a múlz hónapban kezdte el az újenerációs Apple A12 chipset gyártását, ez az áramkör kerül az idei iPhone-okba.\n",
    "\n",
    "Ha máskor is tudni szeretne hasonló dolgokról, kövesse a HVG Tech rovatának Facebook-oldalát.\n",
    "\"\"\""
   ]
  },
  {
   "cell_type": "code",
   "execution_count": 15,
   "metadata": {},
   "outputs": [
    {
     "name": "stdout",
     "output_type": "stream",
     "text": [
      "1. Visszatér a Qualcomm a TSMC-hez , és a tajvani gyártóra bízza a 7 nm-es , Snapdragon 800-as sorozatú lapkakészletek ( Snapdragon 808 , Snapdragon 810 ) gyártását , a korábban még befutónak tűnő Samsung helyett – írja a Digitimes ipari forrásokra hivatkozva .\n",
      "2. A Qualcomm és a TSMC kapcsolata nem új keletű , régebben is jó kapcsolatban voltak : 2006 novemberében kötöttek először üzletet a 65 nm-es chipek fejlesztésére , majd a 45 nm-es és a 28 nm-es gyártási folyamatokkal bővítették a kapcsolatukat .\n",
      "3. Később viszont megjelent a Samsung , és ő gyárthatta a 14 nm-es és 10 nm-es áramköröket .\n",
      "4. Azonban ez az együttműködés , a 16 nm-es technológia miatt , inkább a középkategóriás piaci szegmenst célozná .\n",
      "5. A TSMC egyébként a múlz hónapban kezdte el az újenerációs Apple A12 chipset gyártását , ez az áramkör kerül az idei iPhone-okba .\n"
     ]
    },
    {
     "data": {
      "text/plain": [
       "['Visszatér a Qualcomm a TSMC-hez , és a tajvani gyártóra bízza a 7 nm-es , Snapdragon 800-as sorozatú lapkakészletek ( Snapdragon 808 , Snapdragon 810 ) gyártását , a korábban még befutónak tűnő Samsung helyett – írja a Digitimes ipari forrásokra hivatkozva .',\n",
       " 'A Qualcomm és a TSMC kapcsolata nem új keletű , régebben is jó kapcsolatban voltak : 2006 novemberében kötöttek először üzletet a 65 nm-es chipek fejlesztésére , majd a 45 nm-es és a 28 nm-es gyártási folyamatokkal bővítették a kapcsolatukat .',\n",
       " 'Később viszont megjelent a Samsung , és ő gyárthatta a 14 nm-es és 10 nm-es áramköröket .',\n",
       " 'Azonban ez az együttműködés , a 16 nm-es technológia miatt , inkább a középkategóriás piaci szegmenst célozná .',\n",
       " 'A TSMC egyébként a múlz hónapban kezdte el az újenerációs Apple A12 chipset gyártását , ez az áramkör kerül az idei iPhone-okba .']"
      ]
     },
     "execution_count": 15,
     "metadata": {},
     "output_type": "execute_result"
    }
   ],
   "source": [
    "TextRank.fit(text, pretty_print=True)"
   ]
  }
 ],
 "metadata": {
  "kernelspec": {
   "display_name": "Python 3",
   "language": "python",
   "name": "python3"
  },
  "language_info": {
   "codemirror_mode": {
    "name": "ipython",
    "version": 3
   },
   "file_extension": ".py",
   "mimetype": "text/x-python",
   "name": "python",
   "nbconvert_exporter": "python",
   "pygments_lexer": "ipython3",
   "version": "3.6.5"
  }
 },
 "nbformat": 4,
 "nbformat_minor": 2
}
