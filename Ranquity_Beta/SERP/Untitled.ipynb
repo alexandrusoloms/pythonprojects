{
 "cells": [
  {
   "cell_type": "code",
   "execution_count": 1,
   "metadata": {},
   "outputs": [],
   "source": [
    "import os \n",
    "import requests\n",
    "from bs4 import BeautifulSoup\n",
    "import time\n",
    "import numpy as np\n",
    "import datetime\n",
    "from urllib.request import urlparse"
   ]
  },
  {
   "cell_type": "code",
   "execution_count": 2,
   "metadata": {},
   "outputs": [],
   "source": [
    "output_path = os.path.join(os.path.dirname('__file__'), '..') + '/SERP/output/'"
   ]
  },
  {
   "cell_type": "code",
   "execution_count": 6,
   "metadata": {},
   "outputs": [],
   "source": [
    "def _random_sleep(minimum=3, maximum=10, sd=1):\n",
    "        \"\"\"\n",
    "        sets a random time to sleep between requests, drawing random values from an exponential distribution\n",
    "        if no parameters are set, the values [3, 10, 1] have been pre-specified\n",
    "\n",
    "        :param minimum: the min time of the timer <float>\n",
    "        :param maximum: the max time of the timer <float>\n",
    "        :param sd: the standard deviation <float>\n",
    "        :return: time.sleep( value drawn )\n",
    "        \"\"\"\n",
    "        value = minimum + sd * np.random.exponential()\n",
    "        if value > maximum:\n",
    "            value = maximum + np.random.uniform(0, 1)\n",
    "        time.sleep(value)"
   ]
  },
  {
   "cell_type": "code",
   "execution_count": 8,
   "metadata": {},
   "outputs": [],
   "source": [
    "def _make_request(url, method, **kwargs):\n",
    "        \"\"\"\n",
    "        sends a request to Google and returns the html code as bs4 element\n",
    "\n",
    "        :param url: the url to which the request will be sent\n",
    "        :param method: the HTTP method ('get' or 'post')\n",
    "        :param kwargs: any extra arguments passed to the request builder\n",
    "        :return: bs4.element\n",
    "        \"\"\"\n",
    "        if method == 'post':\n",
    "            response = requests.post(url, **kwargs)\n",
    "        else:\n",
    "            response = requests.get(url, **kwargs)\n",
    "\n",
    "        # check if the response contains html or text:\n",
    "        if 'text' or 'html' in response.headers['Content-Type']:\n",
    "            content = response.content\n",
    "            response.close()\n",
    "            return content\n",
    "        else:\n",
    "            # THIS IS A GOOD PLACE TO ADD A CATCH EXCEPTIONS!!\n",
    "            response.close()"
   ]
  },
  {
   "cell_type": "code",
   "execution_count": 9,
   "metadata": {},
   "outputs": [],
   "source": [
    "def _get_page_results(html):\n",
    "    \"\"\"\n",
    "    Gets the html as input and returns a list of urls that are to be fund on the given page\n",
    "    \"\"\"\n",
    "    url_list = []\n",
    "    soup = BeautifulSoup(html, 'lxml')\n",
    "    for tag in soup.findAll('div', attrs={'class':'g'}):\n",
    "        try:\n",
    "            raw_url = tag.find('a').get('href').split('url?q=')[1]\n",
    "            real_url = urlparse(raw_url)[1]\n",
    "            url_list.append(real_url)\n",
    "        except:\n",
    "            pass\n",
    "    return(url_list)"
   ]
  },
  {
   "cell_type": "code",
   "execution_count": 10,
   "metadata": {},
   "outputs": [],
   "source": [
    "def _search_me(keyword, url):\n",
    "    url_list = []\n",
    "    counter = 0\n",
    "    while url not in url_list:\n",
    "        search_url = 'https://www.google.com/search?q={}&start={}'.format(keyword, counter * 10)\n",
    "        html = _make_request(search_url, method = 'get')\n",
    "        for link in _get_page_results(html):\n",
    "            url_list.append(link)\n",
    "            if link == url:\n",
    "                rank = len(url_list)\n",
    "        print(len(url_list))\n",
    "        _random_sleep()\n",
    "        counter += 1\n",
    "        print('page: {}'.format(counter))\n",
    "    print('{} ranks number {} for {}'.format(url, rank, keyword))    \n",
    "    return(url_list, rank)"
   ]
  },
  {
   "cell_type": "code",
   "execution_count": 11,
   "metadata": {},
   "outputs": [],
   "source": [
    "search_term = 'how to buy property in Budapest'\n",
    "target_site = 'www.budapestestate.com'\n"
   ]
  },
  {
   "cell_type": "code",
   "execution_count": 12,
   "metadata": {},
   "outputs": [
    {
     "name": "stdout",
     "output_type": "stream",
     "text": [
      "10\n",
      "page: 1\n",
      "20\n",
      "page: 2\n",
      "30\n",
      "page: 3\n",
      "www.budapestestate.com ranks number 29 for how to buy property in Budapest\n"
     ]
    },
    {
     "data": {
      "text/plain": [
       "(['www.globalpropertyguide.com',\n",
       "  'www.budapestbylocals.com',\n",
       "  'www.towerbudapest.com',\n",
       "  'helpers.hu',\n",
       "  'www.gatewayproperties.co.uk',\n",
       "  'www.rightmove.co.uk',\n",
       "  'propertiesinbudapest.com',\n",
       "  'britishexpats.com',\n",
       "  'www.engelvoelkers.com',\n",
       "  'www.mybudapesthome.com',\n",
       "  'www.portfolio.hu',\n",
       "  'www.portfolio.hu',\n",
       "  'www.expat.com',\n",
       "  'www.tower-investments.com',\n",
       "  'dh.hu',\n",
       "  'realestate.hu',\n",
       "  'www.nytimes.com',\n",
       "  'www.hungarianhouses.com',\n",
       "  'www.easyexpat.com',\n",
       "  'www.capitalrealestate.hu',\n",
       "  'www.capitalrealestate.hu',\n",
       "  'clarkeandwhite.com',\n",
       "  'www.thenational.ae',\n",
       "  'www.realtor.com',\n",
       "  'www.ft.com',\n",
       "  'www.justlanded.com',\n",
       "  'www.flottinvest.hu',\n",
       "  'gurdinc.com',\n",
       "  'www.budapestestate.com',\n",
       "  'www.irishtimes.com'],\n",
       " 29)"
      ]
     },
     "execution_count": 12,
     "metadata": {},
     "output_type": "execute_result"
    }
   ],
   "source": [
    "_search_me(search_term, target_site)"
   ]
  }
 ],
 "metadata": {
  "kernelspec": {
   "display_name": "Python 3",
   "language": "python",
   "name": "python3"
  },
  "language_info": {
   "codemirror_mode": {
    "name": "ipython",
    "version": 3
   },
   "file_extension": ".py",
   "mimetype": "text/x-python",
   "name": "python",
   "nbconvert_exporter": "python",
   "pygments_lexer": "ipython3",
   "version": "3.6.5"
  }
 },
 "nbformat": 4,
 "nbformat_minor": 2
}
