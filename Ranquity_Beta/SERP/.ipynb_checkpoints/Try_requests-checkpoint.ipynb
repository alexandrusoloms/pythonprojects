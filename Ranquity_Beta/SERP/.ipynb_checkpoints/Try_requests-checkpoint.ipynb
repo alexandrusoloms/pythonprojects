{
 "cells": [
  {
   "cell_type": "code",
   "execution_count": 1,
   "metadata": {},
   "outputs": [],
   "source": [
    "import os \n",
    "import time\n",
    "import requests\n",
    "from bs4 import BeautifulSoup\n",
    "import numpy"
   ]
  },
  {
   "cell_type": "code",
   "execution_count": 9,
   "metadata": {},
   "outputs": [],
   "source": [
    "def _make_request(url, method, **kwargs):\n",
    "        \"\"\"\n",
    "        sends a request to Google and returns the html code as bs4 element\n",
    "\n",
    "        :param url: the url to which the request will be sent\n",
    "        :param method: the HTTP method ('get' or 'post')\n",
    "        :param kwargs: any extra arguments passed to the request builder\n",
    "        :return: bs4.element\n",
    "        \"\"\"\n",
    "        if method == 'post':\n",
    "            response = requests.post(url, **kwargs)\n",
    "        else:\n",
    "            response = requests.get(url, **kwargs)\n",
    "\n",
    "        # check if the response contains html or text:\n",
    "        if 'text' or 'html' in response.headers['Content-Type']:\n",
    "            content = response.content\n",
    "            response.close()\n",
    "            return content\n",
    "        else:\n",
    "            # THIS IS A GOOD PLACE TO ADD A CATCH EXCEPTIONS!!\n",
    "            response.close()"
   ]
  },
  {
   "cell_type": "code",
   "execution_count": 10,
   "metadata": {},
   "outputs": [],
   "source": [
    "def _random_sleep(minimum=3, maximum=10, sd=1):\n",
    "        \"\"\"\n",
    "        sets a random time to sleep between requests, drawing random values from an exponential distribution\n",
    "        if no parameters are set, the values [3, 10, 1] have been pre-specified\n",
    "\n",
    "        :param minimum: the min time of the timer <float>\n",
    "        :param maximum: the max time of the timer <float>\n",
    "        :param sd: the standard deviation <float>\n",
    "        :return: time.sleep( value drawn )\n",
    "        \"\"\"\n",
    "        value = minimum + sd * np.random.exponential()\n",
    "        if value > maximum:\n",
    "            value = maximum + np.random.uniform(0, 1)\n",
    "        time.sleep(value)"
   ]
  },
  {
   "cell_type": "code",
   "execution_count": 4,
   "metadata": {},
   "outputs": [],
   "source": [
    "url = 'https://www.google.hu/search?ei=OhIpW_vIGYnRsAHLh6fgAQ&q=man+and+van+London&oq=man+and+van+London&gs_l=psy-ab.3...1515.42413.0.42610.22.20.2.0.0.0.156.1814.0j15.15.0....0...1.1.64.psy-ab..5.17.1852...0j0i67k1j0i22i10i30k1j0i22i30k1.0.e39d71i5oqQ'"
   ]
  },
  {
   "cell_type": "code",
   "execution_count": 11,
   "metadata": {},
   "outputs": [],
   "source": [
    "content = _make_request(url, method='get')"
   ]
  },
  {
   "cell_type": "code",
   "execution_count": 13,
   "metadata": {},
   "outputs": [],
   "source": [
    "soup = BeautifulSoup(content, 'lxml')"
   ]
  },
  {
   "cell_type": "code",
   "execution_count": 15,
   "metadata": {},
   "outputs": [
    {
     "data": {
      "text/plain": [
       "<a class=\"gb1\" href=\"https://www.google.hu/search?hl=hu&amp;tbm=isch&amp;source=og&amp;tab=wi\">Képek</a>"
      ]
     },
     "execution_count": 15,
     "metadata": {},
     "output_type": "execute_result"
    }
   ],
   "source": [
    "soup.find('a')"
   ]
  },
  {
   "cell_type": "code",
   "execution_count": null,
   "metadata": {},
   "outputs": [],
   "source": []
  }
 ],
 "metadata": {
  "kernelspec": {
   "display_name": "Python 3",
   "language": "python",
   "name": "python3"
  },
  "language_info": {
   "codemirror_mode": {
    "name": "ipython",
    "version": 3
   },
   "file_extension": ".py",
   "mimetype": "text/x-python",
   "name": "python",
   "nbconvert_exporter": "python",
   "pygments_lexer": "ipython3",
   "version": "3.6.4"
  }
 },
 "nbformat": 4,
 "nbformat_minor": 2
}
