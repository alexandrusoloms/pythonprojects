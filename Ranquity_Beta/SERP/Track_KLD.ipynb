{
 "cells": [
  {
   "cell_type": "code",
   "execution_count": 3,
   "metadata": {},
   "outputs": [],
   "source": [
    "import os \n",
    "import requests\n",
    "from bs4 import BeautifulSoup\n",
    "import time\n",
    "import numpy as np\n",
    "import datetime\n",
    "from urllib.request import urlparse"
   ]
  },
  {
   "cell_type": "code",
   "execution_count": 4,
   "metadata": {},
   "outputs": [],
   "source": [
    "output_path = os.path.join(os.path.dirname('__file__'), '..') + '/SERP/output/'"
   ]
  },
  {
   "cell_type": "code",
   "execution_count": 5,
   "metadata": {},
   "outputs": [
    {
     "data": {
      "text/plain": [
       "[]"
      ]
     },
     "execution_count": 5,
     "metadata": {},
     "output_type": "execute_result"
    }
   ],
   "source": [
    "os.listdir(output_path)"
   ]
  },
  {
   "cell_type": "code",
   "execution_count": 42,
   "metadata": {},
   "outputs": [],
   "source": [
    "target_site = 'kldmanandvan.co.uk'\n",
    "target_keywords = ['removal', 'man and van']"
   ]
  },
  {
   "cell_type": "code",
   "execution_count": 7,
   "metadata": {},
   "outputs": [],
   "source": [
    "def _random_sleep(minimum=3, maximum=10, sd=1):\n",
    "        \"\"\"\n",
    "        sets a random time to sleep between requests, drawing random values from an exponential distribution\n",
    "        if no parameters are set, the values [3, 10, 1] have been pre-specified\n",
    "\n",
    "        :param minimum: the min time of the timer <float>\n",
    "        :param maximum: the max time of the timer <float>\n",
    "        :param sd: the standard deviation <float>\n",
    "        :return: time.sleep( value drawn )\n",
    "        \"\"\"\n",
    "        value = minimum + sd * np.random.exponential()\n",
    "        if value > maximum:\n",
    "            value = maximum + np.random.uniform(0, 1)\n",
    "        time.sleep(value)"
   ]
  },
  {
   "cell_type": "code",
   "execution_count": 8,
   "metadata": {},
   "outputs": [],
   "source": [
    "def _make_request(url, method, **kwargs):\n",
    "        \"\"\"\n",
    "        sends a request to Google and returns the html code as bs4 element\n",
    "\n",
    "        :param url: the url to which the request will be sent\n",
    "        :param method: the HTTP method ('get' or 'post')\n",
    "        :param kwargs: any extra arguments passed to the request builder\n",
    "        :return: bs4.element\n",
    "        \"\"\"\n",
    "        if method == 'post':\n",
    "            response = requests.post(url, **kwargs)\n",
    "        else:\n",
    "            response = requests.get(url, **kwargs)\n",
    "\n",
    "        # check if the response contains html or text:\n",
    "        if 'text' or 'html' in response.headers['Content-Type']:\n",
    "            content = response.content\n",
    "            response.close()\n",
    "            return content\n",
    "        else:\n",
    "            # THIS IS A GOOD PLACE TO ADD A CATCH EXCEPTIONS!!\n",
    "            response.close()"
   ]
  },
  {
   "cell_type": "code",
   "execution_count": 30,
   "metadata": {},
   "outputs": [],
   "source": [
    "def _get_page_results(html):\n",
    "    \"\"\"\n",
    "    Gets the html as input and returns a list of urls that are to be fund on the given page\n",
    "    \"\"\"\n",
    "    url_list = []\n",
    "    soup = BeautifulSoup(html, 'lxml')\n",
    "    for tag in soup.findAll('div', attrs={'class':'g'}):\n",
    "        try:\n",
    "            raw_url = tag.find('a').get('href').split('url?q=')[1]\n",
    "            real_url = urlparse(raw_url)[1]\n",
    "            url_list.append(real_url)\n",
    "        except:\n",
    "            pass\n",
    "    return(url_list)"
   ]
  },
  {
   "cell_type": "code",
   "execution_count": 49,
   "metadata": {},
   "outputs": [],
   "source": [
    "def _search_me(keyword, url):\n",
    "    url_list = []\n",
    "    counter = 0\n",
    "    while url not in url_list:\n",
    "        search_url = 'https://www.google.com/search?q={}&start={}'.format(keyword, counter * 10)\n",
    "        html = _make_request(search_url, method = 'get')\n",
    "        for link in _get_page_results(html):\n",
    "            url_list.append(link)\n",
    "            if link == url:\n",
    "                rank = len(url_list)\n",
    "        print(len(url_list))\n",
    "        _random_sleep()\n",
    "        counter += 1\n",
    "        print('page: {}'.format(counter))\n",
    "    print('{} ranks number {} for {}'.format(url, rank, keyword))    \n",
    "    return(url_list, rank)"
   ]
  },
  {
   "cell_type": "code",
   "execution_count": 51,
   "metadata": {},
   "outputs": [
    {
     "name": "stdout",
     "output_type": "stream",
     "text": [
      "10\n",
      "page: 1\n",
      "20\n",
      "page: 2\n",
      "30\n",
      "page: 3\n",
      "40\n",
      "page: 4\n",
      "49\n",
      "page: 5\n",
      "59\n",
      "page: 6\n",
      "69\n",
      "page: 7\n",
      "79\n",
      "page: 8\n",
      "kldmanandvan.co.uk ranks number 73 for mananadvan London\n"
     ]
    },
    {
     "data": {
      "text/plain": [
       "(['www.manwithvanlondon.com',\n",
       "  'www.gumtree.com',\n",
       "  'www.gumtree.com',\n",
       "  'www.london-man-van.com',\n",
       "  'aussiegroup.co.uk',\n",
       "  'manwithavan.co.uk',\n",
       "  'www.comparethemanandvan.co.uk',\n",
       "  'www.amanwithavanlondon.co.uk',\n",
       "  'van-plus.com',\n",
       "  'www.manandvanlondon.com',\n",
       "  'www.theyellowvancompany.com',\n",
       "  'www.themanvan.co.uk',\n",
       "  'www.robertsanddennys.co.uk',\n",
       "  'www.fantastic-removals.co.uk',\n",
       "  'www.anyvan.com',\n",
       "  'quickmanandvan.co.uk',\n",
       "  'www.finestmanvan.co.uk',\n",
       "  'www.realmanandvan.co.uk',\n",
       "  'www.strongmove.co.uk',\n",
       "  'www.urbanfetchmanandvan.com',\n",
       "  'bestvanandman.co.uk',\n",
       "  'www.gentlemanandavan.co.uk',\n",
       "  'eastlondonmanandvan.co.uk',\n",
       "  'www.manvanlondon.co.uk',\n",
       "  'www.manandvans.com',\n",
       "  'www.bigyellowexpress.co.uk',\n",
       "  'www.manandvanuk.co.uk',\n",
       "  'rmvlondon.com',\n",
       "  'www.man-van.co.uk',\n",
       "  'manandvangreaterlondon.com',\n",
       "  'www.helping2move.com',\n",
       "  'www.bestmove.co.uk',\n",
       "  'www.london-man-van.co.uk',\n",
       "  'www.qualityremovalslondon.co.uk',\n",
       "  'www.themanandvan.co.uk',\n",
       "  'www.getamover.co.uk',\n",
       "  'themoveteam.co.uk',\n",
       "  'lgvanman.com',\n",
       "  'www.comparemanwithvan.co.uk',\n",
       "  'www.andremoves.com',\n",
       "  'www.timeout.com',\n",
       "  'citymanandvan.com',\n",
       "  'manandvannow.com',\n",
       "  'www.elephantremovals.co.uk',\n",
       "  'getmanandvan.co.uk',\n",
       "  'happy2movelondon.co.uk',\n",
       "  'www.manvanlondonuk.co.uk',\n",
       "  'www.easymanandvanremovals.co.uk',\n",
       "  'www.24hremovals.co.uk',\n",
       "  'www.manandvan365.com',\n",
       "  'manandvan.mobi',\n",
       "  'mymove.london',\n",
       "  'www.safevans.co.uk',\n",
       "  'secureremovalslondon.co.uk',\n",
       "  'www.greenmanandvan.co.uk',\n",
       "  'mtcremoval.co.uk',\n",
       "  'www.manandvan.org',\n",
       "  'www.vanmanexeter.co.uk',\n",
       "  'thevanguy.com',\n",
       "  'findmymanandvan.co.uk',\n",
       "  'www.taxivan.net',\n",
       "  'www.gomanandvan.co.uk',\n",
       "  'www.manandvanoxford.co.uk',\n",
       "  'www.manandvan.co.uk',\n",
       "  'rslmanandvan.co.uk',\n",
       "  'www.primetimemanandvan.co.uk',\n",
       "  'www.yell.com',\n",
       "  'manandvanremovalscompany.co.uk',\n",
       "  'www.londonvanmoves.co.uk',\n",
       "  'www.apollo-removals.co.uk',\n",
       "  'www.bookyourmanwithavan.com',\n",
       "  'man-and-van-london-cheap.co.uk',\n",
       "  'kldmanandvan.co.uk',\n",
       "  'www.indeed.co.uk',\n",
       "  'man-and-a-van-london.co.uk',\n",
       "  'europeremove.com',\n",
       "  'www.eazy2move.com',\n",
       "  'www.shiply.com',\n",
       "  'www.tictocmanandvan.co.uk'],\n",
       " 73)"
      ]
     },
     "execution_count": 51,
     "metadata": {},
     "output_type": "execute_result"
    }
   ],
   "source": [
    "_search_me('mananadvan London', target_site)"
   ]
  },
  {
   "cell_type": "code",
   "execution_count": 35,
   "metadata": {},
   "outputs": [
    {
     "ename": "NameError",
     "evalue": "name 'url_list' is not defined",
     "output_type": "error",
     "traceback": [
      "\u001b[0;31m---------------------------------------------------------------------------\u001b[0m",
      "\u001b[0;31mNameError\u001b[0m                                 Traceback (most recent call last)",
      "\u001b[0;32m<ipython-input-35-2158a239f23e>\u001b[0m in \u001b[0;36m<module>\u001b[0;34m()\u001b[0m\n\u001b[0;32m----> 1\u001b[0;31m \u001b[0murl_list\u001b[0m\u001b[0;34m\u001b[0m\u001b[0m\n\u001b[0m",
      "\u001b[0;31mNameError\u001b[0m: name 'url_list' is not defined"
     ]
    }
   ],
   "source": [
    "url_list"
   ]
  },
  {
   "cell_type": "code",
   "execution_count": 9,
   "metadata": {},
   "outputs": [],
   "source": [
    "html = _make_request('https://www.google.com/search?client=ubuntu&hs=APd&channel=fs&ei=pGUrW-iRAsjagAa7pJ_gDQ&q=removals+London&oq=removals+London&gs_l=psy-ab.3..0i203k1l10.21878.31202.0.31383.19.15.2.2.2.0.95.1186.15.15.0....0...1c.1.64.psy-ab..0.17.1132...0j33i22i29i30k1j33i160k1.0.rSPlZ7EgBEc', method='get')"
   ]
  },
  {
   "cell_type": "code",
   "execution_count": 10,
   "metadata": {},
   "outputs": [],
   "source": [
    "soup = BeautifulSoup(html, 'lxml')"
   ]
  },
  {
   "cell_type": "code",
   "execution_count": 12,
   "metadata": {},
   "outputs": [],
   "source": [
    "\n",
    "try_url = soup.findAll('div', attrs={'class':'g'})[-1].find('a').get('href').split('url?q=')[1].split('.com/')[0]\n",
    "#soup.findAll('div', attrs={'class':'g'})[-1].find('a').get('href').split('url?q=')[1].split('.com/')[0]"
   ]
  },
  {
   "cell_type": "code",
   "execution_count": 16,
   "metadata": {},
   "outputs": [
    {
     "data": {
      "text/plain": [
       "'www.alexandersgroup.co.uk'"
      ]
     },
     "execution_count": 16,
     "metadata": {},
     "output_type": "execute_result"
    }
   ],
   "source": [
    "urlparse(try_url)[1]"
   ]
  },
  {
   "cell_type": "code",
   "execution_count": 25,
   "metadata": {},
   "outputs": [
    {
     "name": "stdout",
     "output_type": "stream",
     "text": [
      "('https', 'aussiegroup.co.uk')\n",
      "('https', 'www.timeout.com')\n",
      "('https', 'www.strongmove.co.uk')\n",
      "('https', 'www.saferemovals.co.uk')\n",
      "('https', 'www.comparemymove.com')\n",
      "('http', 'www.shirleysremovals.com')\n",
      "('https', 'www.fantastic-removals.co.uk')\n",
      "('https', 'www.robertsanddennys.co.uk')\n",
      "('http', 'www.jamesremovals.com')\n",
      "('https', 'www.alexandersgroup.co.uk')\n"
     ]
    }
   ],
   "source": [
    "for tag in soup.findAll('div', attrs={'class':'g'}):\n",
    "    try:\n",
    "        raw_url = tag.find('a').get('href').split('url?q=')[1]\n",
    "        real_url = urlparse(raw_url)[0:2]\n",
    "        print(real_url)\n",
    "    except:\n",
    "        pass"
   ]
  },
  {
   "cell_type": "code",
   "execution_count": 26,
   "metadata": {},
   "outputs": [
    {
     "name": "stdout",
     "output_type": "stream",
     "text": [
      "2018-06-21 10:44:16\n"
     ]
    }
   ],
   "source": [
    "print(\n",
    "    datetime.datetime.fromtimestamp(\n",
    "        int(time.time())\n",
    "    ).strftime('%Y-%m-%d %H:%M:%S')\n",
    ")"
   ]
  },
  {
   "cell_type": "code",
   "execution_count": null,
   "metadata": {},
   "outputs": [],
   "source": []
  }
 ],
 "metadata": {
  "kernelspec": {
   "display_name": "Python 3",
   "language": "python",
   "name": "python3"
  },
  "language_info": {
   "codemirror_mode": {
    "name": "ipython",
    "version": 3
   },
   "file_extension": ".py",
   "mimetype": "text/x-python",
   "name": "python",
   "nbconvert_exporter": "python",
   "pygments_lexer": "ipython3",
   "version": "3.6.5"
  }
 },
 "nbformat": 4,
 "nbformat_minor": 2
}
