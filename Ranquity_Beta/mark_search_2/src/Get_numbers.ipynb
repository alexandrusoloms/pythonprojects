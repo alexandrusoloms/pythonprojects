{
 "cells": [
  {
   "cell_type": "code",
   "execution_count": 10,
   "metadata": {},
   "outputs": [],
   "source": [
    "import os \n",
    "import requests\n",
    "from bs4 import BeautifulSoup\n",
    "import re\n",
    "from nltk import sent_tokenize\n",
    "import pandas as pd\n",
    "\n",
    "#Getting the preffered word_list\n",
    "if os.path.isfile('search_words.txt') == False:\n",
    "    print('Please create search_words.txt in order to have searchable words.')\n",
    "with open('search_words.txt', 'r') as handle:\n",
    "    raw_text = handle.read()\n",
    "    yeswords = raw_text.split('YESWORDS: ')[1].split('NOWORDS')[0].replace('\\n', '').replace(' ', '').split(',')[:-1]\n",
    "    nowords =  raw_text.split('NOWORDS: ')[1].replace('\\n', '').replace(' ', '').split(',')\n",
    "\n",
    "basic_timeout = 10\n",
    "output_path = os.path.join(os.path.dirname('__file__'), '..', ) +'/output/'\n",
    "\n",
    "class NumberCollector(object):\n",
    "    \"\"\"\n",
    "    This class is responsible for collecting the relevant sentences (Sentences that have numbers and also one of the keywords)\n",
    "    \"\"\"\n",
    "    @classmethod\n",
    "    def requesting(cls, url, timeout=10):       \n",
    "        \"\"\"\n",
    "        Requesting for the site and returning the html.\n",
    "        :param url: Url to be searched\n",
    "        :param timeout: timeout after which request times out.\n",
    "        \"\"\"\n",
    "        try:\n",
    "            print(url)\n",
    "            response = requests.get(url, timeout=timeout)\n",
    "            html = response.content\n",
    "            response.close()\n",
    "            return html\n",
    "        except Exception as e:\n",
    "            print(e)\n",
    "\n",
    "    @classmethod\n",
    "    def return_soup(cls, html):\n",
    "        soup = BeautifulSoup(html, 'lxml')\n",
    "        return soup\n",
    "\n",
    "    @classmethod\n",
    "    def numbered_sentences(cls, url, tag_to_search = 'p'):\n",
    "        \"\"\"\n",
    "        Taking the scraped html and searching the p tags and looking for sentences that have both numbers \n",
    "        and a keyword in them.\n",
    "        Keywords are taken from the search_word.txt\n",
    "        \"\"\"\n",
    "        print(url)\n",
    "        my_soup = cls.return_soup(cls.requesting(url))\n",
    "        sentences = []\n",
    "        for tag in my_soup.findAll(tag_to_search):\n",
    "            for sentence in sent_tokenize(tag.text):\n",
    "                sentences.append(sentence)\n",
    "\n",
    "        useful_sentences = []\n",
    "        for c, sentence in enumerate(sentences):\n",
    "            if re.search(r'\\d', sentence):\n",
    "                if any(word in sentence.lower() for word in yeswords):\n",
    "                    useful_sentences.append(sentence)\n",
    "\n",
    "        print('There are {} useful sentences'.format(len(useful_sentences)))\n",
    "        for sentence in useful_sentences:\n",
    "            try:\n",
    "                df = pd.read_csv(output_path + 'urls_and_sentences.csv')\n",
    "            except:\n",
    "                df = pd.DataFrame(columns=['url', 'sentence'])\n",
    "            df.loc[len(df)] = [url, sentence]\n",
    "\n",
    "            df.to_csv(output_path + 'urls_and_sentences.csv', index=False)\n",
    "            "
   ]
  },
  {
   "cell_type": "code",
   "execution_count": 11,
   "metadata": {},
   "outputs": [
    {
     "name": "stdout",
     "output_type": "stream",
     "text": [
      "Please provide url: http://ec.europa.eu/eurostat/statistics-explained/index.php/Waste_statistics\n",
      "http://ec.europa.eu/eurostat/statistics-explained/index.php/Waste_statistics\n",
      "http://ec.europa.eu/eurostat/statistics-explained/index.php/Waste_statistics\n",
      "There are 30 useful sentences\n"
     ]
    }
   ],
   "source": [
    "search_url = input('Please provide url: ')\n",
    "NumberCollector.numbered_sentences(search_url)"
   ]
  }
 ],
 "metadata": {
  "kernelspec": {
   "display_name": "Python 3",
   "language": "python",
   "name": "python3"
  },
  "language_info": {
   "codemirror_mode": {
    "name": "ipython",
    "version": 3
   },
   "file_extension": ".py",
   "mimetype": "text/x-python",
   "name": "python",
   "nbconvert_exporter": "python",
   "pygments_lexer": "ipython3",
   "version": "3.6.6"
  }
 },
 "nbformat": 4,
 "nbformat_minor": 2
}
