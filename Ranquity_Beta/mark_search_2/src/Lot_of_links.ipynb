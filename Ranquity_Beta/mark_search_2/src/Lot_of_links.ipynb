{
 "cells": [
  {
   "cell_type": "code",
   "execution_count": 4,
   "metadata": {},
   "outputs": [],
   "source": [
    "import os \n",
    "import requests\n",
    "from bs4 import BeautifulSoup\n",
    "from Get_Numbers import NumberCollector\n",
    "from urllib.parse import urlparse\n",
    "\n",
    "base_url = input('Provide base url: ')\n",
    "base_base = urlparse(base_url)[1]\n",
    "\n",
    "response = requests.get(base_url, timeout = 10)\n",
    "html = response.content\n",
    "response.close()\n",
    "soup = BeautifulSoup(html, 'lxml')\n",
    "\n",
    "link_list = []\n",
    "link_list.append(base_url)\n",
    "for tag in soup.findAll('a'):\n",
    "    try:\n",
    "        link_list.append(tag.get('href'))\n",
    "    except:\n",
    "        pass\n",
    "\n",
    "done_links = []\n",
    "for c, link in enumerate(link_list):\n",
    "    if link not in done_links:\n",
    "        try: \n",
    "            NumberCollector.numbered_sentences(url=link)\n",
    "        except:\n",
    "            try:\n",
    "                link = 'http://' + base_base + link\n",
    "            except:\n",
    "                pass\n",
    "    else:\n",
    "        print('Already done')\n",
    "    done_links.append(link)\n",
    "    print('{}/{} done'.format(c, len(link_list)))"
   ]
  },
  {
   "cell_type": "code",
   "execution_count": null,
   "metadata": {},
   "outputs": [],
   "source": []
  }
 ],
 "metadata": {
  "kernelspec": {
   "display_name": "Python 3",
   "language": "python",
   "name": "python3"
  },
  "language_info": {
   "codemirror_mode": {
    "name": "ipython",
    "version": 3
   },
   "file_extension": ".py",
   "mimetype": "text/x-python",
   "name": "python",
   "nbconvert_exporter": "python",
   "pygments_lexer": "ipython3",
   "version": "3.6.6"
  }
 },
 "nbformat": 4,
 "nbformat_minor": 2
}
